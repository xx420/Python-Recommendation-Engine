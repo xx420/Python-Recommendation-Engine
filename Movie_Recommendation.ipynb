{
  "nbformat": 4,
  "nbformat_minor": 0,
  "metadata": {
    "colab": {
      "name": "Welcome To Colaboratory",
      "provenance": [],
      "collapsed_sections": [],
      "toc_visible": true
    },
    "kernelspec": {
      "display_name": "Python 3",
      "name": "python3"
    }
  },
  "cells": [
    {
      "cell_type": "markdown",
      "metadata": {
        "id": "5fCEDCU_qrC0"
      },
      "source": [
        "<p><img alt=\"Colaboratory logo\" height=\"45px\" src=\"/img/colab_favicon.ico\" align=\"left\" hspace=\"10px\" vspace=\"0px\"></p>\n",
        "\n",
        "<h1>What is Colaboratory?</h1>\n",
        "\n",
        "Colaboratory, or \"Colab\" for short, allows you to write and execute Python in your browser, with \n",
        "- Zero configuration required\n",
        "- Free access to GPUs\n",
        "- Easy sharing\n",
        "\n",
        "Whether you're a **student**, a **data scientist** or an **AI researcher**, Colab can make your work easier. Watch [Introduction to Colab](https://www.youtube.com/watch?v=inN8seMm7UI) to learn more, or just get started below!"
      ]
    },
    {
      "cell_type": "markdown",
      "metadata": {
        "id": "GJBs_flRovLc"
      },
      "source": [
        "## **Getting started**\n",
        "\n",
        "The document you are reading is not a static web page, but an interactive environment called a **Colab notebook** that lets you write and execute code.\n",
        "\n",
        "For example, here is a **code cell** with a short Python script that computes a value, stores it in a variable, and prints the result:"
      ]
    },
    {
      "cell_type": "code",
      "metadata": {
        "colab": {
          "base_uri": "https://localhost:8080/",
          "height": 34
        },
        "id": "gJr_9dXGpJ05",
        "outputId": "9f556d03-ec67-4950-a485-cfdba9ddd14d"
      },
      "source": [
        "seconds_in_a_day = 24 * 60 * 60\n",
        "seconds_in_a_day"
      ],
      "execution_count": null,
      "outputs": [
        {
          "data": {
            "text/plain": [
              "86400"
            ]
          },
          "execution_count": 0,
          "metadata": {
            "tags": []
          },
          "output_type": "execute_result"
        }
      ]
    },
    {
      "cell_type": "markdown",
      "metadata": {
        "id": "2fhs6GZ4qFMx"
      },
      "source": [
        "To execute the code in the above cell, select it with a click and then either press the play button to the left of the code, or use the keyboard shortcut \"Command/Ctrl+Enter\". To edit the code, just click the cell and start editing.\n",
        "\n",
        "Variables that you define in one cell can later be used in other cells:"
      ]
    },
    {
      "cell_type": "code",
      "metadata": {
        "colab": {
          "base_uri": "https://localhost:8080/",
          "height": 34
        },
        "id": "-gE-Ez1qtyIA",
        "outputId": "94cb2224-0edf-457b-90b5-0ac3488d8a97"
      },
      "source": [
        "seconds_in_a_week = 7 * seconds_in_a_day\n",
        "seconds_in_a_week"
      ],
      "execution_count": null,
      "outputs": [
        {
          "data": {
            "text/plain": [
              "604800"
            ]
          },
          "execution_count": 0,
          "metadata": {
            "tags": []
          },
          "output_type": "execute_result"
        }
      ]
    },
    {
      "cell_type": "markdown",
      "metadata": {
        "id": "lSrWNr3MuFUS"
      },
      "source": [
        "Colab notebooks allow you to combine **executable code** and **rich text** in a single document, along with **images**, **HTML**, **LaTeX** and more. When you create your own Colab notebooks, they are stored in your Google Drive account. You can easily share your Colab notebooks with co-workers or friends, allowing them to comment on your notebooks or even edit them. To learn more, see [Overview of Colab](/notebooks/basic_features_overview.ipynb). To create a new Colab notebook you can use the File menu above, or use the following link: [create a new Colab notebook](http://colab.research.google.com#create=true).\n",
        "\n",
        "Colab notebooks are Jupyter notebooks that are hosted by Colab. To learn more about the Jupyter project, see [jupyter.org](https://www.jupyter.org)."
      ]
    },
    {
      "cell_type": "markdown",
      "metadata": {
        "id": "UdRyKR44dcNI"
      },
      "source": [
        "## Data science\n",
        "\n",
        "With Colab you can harness the full power of popular Python libraries to analyze and visualize data. The code cell below uses **numpy** to generate some random data, and uses **matplotlib** to visualize it. To edit the code, just click the cell and start editing."
      ]
    },
    {
      "cell_type": "code",
      "metadata": {
        "colab": {
          "base_uri": "https://localhost:8080/",
          "height": 281
        },
        "id": "C4HZx7Gndbrh",
        "outputId": "46abc637-6abd-41b2-9bba-80a7ae992e06"
      },
      "source": [
        "import numpy as np\n",
        "from matplotlib import pyplot as plt\n",
        "\n",
        "ys = 200 + np.random.randn(100)\n",
        "x = [x for x in range(len(ys))]\n",
        "\n",
        "plt.plot(x, ys, '-')\n",
        "plt.fill_between(x, ys, 195, where=(ys > 195), facecolor='g', alpha=0.6)\n",
        "\n",
        "plt.title(\"Sample Visualization\")\n",
        "plt.show()"
      ],
      "execution_count": null,
      "outputs": [
        {
          "data": {
            "image/png": "[encoded data removed]",
            "text/plain": [
              "<Figure size 432x288 with 1 Axes>"
            ]
          },
          "metadata": {
            "tags": []
          },
          "output_type": "display_data"
        }
      ]
    },
    {
      "cell_type": "markdown",
      "metadata": {
        "id": "-C8K1QXWU4Nh"
      },
      "source": [
        ""
      ]
    },
    {
      "cell_type": "code",
      "metadata": {
        "id": "523bQyz5U4zG"
      },
      "source": [
        "#Import the libraries \n",
        "import pandas as pd \n",
        "from sklearn.metrics.pairwise import cosine_similarity \n",
        "from sklearn.feature_extraction.text import CountVectorizer "
      ],
      "execution_count": 1,
      "outputs": []
    },
    {
      "cell_type": "code",
      "metadata": {
        "colab": {
          "resources": {
            "http://localhost:8080/nbextensions/google.colab/files.js": {
              "data": "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",
              "ok": true,
              "headers": [
                [
                  "content-type",
                  "application/javascript"
                ]
              ],
              "status": 200,
              "status_text": ""
            }
          },
          "base_uri": "https://localhost:8080/",
          "height": 56
        },
        "id": "RY5PST5xVDwM",
        "outputId": "b5a0b41c-a34c-4818-acc1-15fa48166c1c"
      },
      "source": [
        "#Load the data \n",
        "from google.colab import files \n",
        "uploaded = files.upload()"
      ],
      "execution_count": 2,
      "outputs": [
        {
          "output_type": "display_data",
          "data": {
            "text/html": [
              "\n",
              "     <input type=\"file\" id=\"files-915174e0-de3d-428f-8222-84ae075e225f\" name=\"files[]\" multiple disabled\n",
              "        style=\"border:none\" />\n",
              "     <output id=\"result-915174e0-de3d-428f-8222-84ae075e225f\">\n",
              "      Upload widget is only available when the cell has been executed in the\n",
              "      current browser session. Please rerun this cell to enable.\n",
              "      </output>\n",
              "      <script src=\"/nbextensions/google.colab/files.js\"></script> "
            ],
            "text/plain": [
              "<IPython.core.display.HTML object>"
            ]
          },
          "metadata": {}
        },
        {
          "output_type": "stream",
          "name": "stdout",
          "text": [
            "Saving IMDB-Movie-Data.csv to IMDB-Movie-Data.csv\n"
          ]
        }
      ]
    },
    {
      "cell_type": "code",
      "metadata": {
        "colab": {
          "base_uri": "https://localhost:8080/",
          "height": 310
        },
        "id": "nCY4JSAnWQQJ",
        "outputId": "5d4d36aa-74aa-4c36-e86a-e0beea493a0c"
      },
      "source": [
        "#store the data\n",
        "df = pd.read_csv('IMDB-Movie-Data.csv')\n",
        "#show the first 3 rows of data \n",
        "df.head(3)"
      ],
      "execution_count": 4,
      "outputs": [
        {
          "output_type": "execute_result",
          "data": {
            "text/html": [
              "<div>\n",
              "<style scoped>\n",
              "    .dataframe tbody tr th:only-of-type {\n",
              "        vertical-align: middle;\n",
              "    }\n",
              "\n",
              "    .dataframe tbody tr th {\n",
              "        vertical-align: top;\n",
              "    }\n",
              "\n",
              "    .dataframe thead th {\n",
              "        text-align: right;\n",
              "    }\n",
              "</style>\n",
              "<table border=\"1\" class=\"dataframe\">\n",
              "  <thead>\n",
              "    <tr style=\"text-align: right;\">\n",
              "      <th></th>\n",
              "      <th>Rank</th>\n",
              "      <th>Title</th>\n",
              "      <th>Genre</th>\n",
              "      <th>Description</th>\n",
              "      <th>Director</th>\n",
              "      <th>Actors</th>\n",
              "      <th>Year</th>\n",
              "      <th>Runtime (Minutes)</th>\n",
              "      <th>Rating</th>\n",
              "      <th>Votes</th>\n",
              "      <th>Revenue (Millions)</th>\n",
              "      <th>Metascore</th>\n",
              "    </tr>\n",
              "  </thead>\n",
              "  <tbody>\n",
              "    <tr>\n",
              "      <th>0</th>\n",
              "      <td>1</td>\n",
              "      <td>Guardians of the Galaxy</td>\n",
              "      <td>Action,Adventure,Sci-Fi</td>\n",
              "      <td>A group of intergalactic criminals are forced ...</td>\n",
              "      <td>James Gunn</td>\n",
              "      <td>Chris Pratt, Vin Diesel, Bradley Cooper, Zoe S...</td>\n",
              "      <td>2014</td>\n",
              "      <td>121</td>\n",
              "      <td>8.1</td>\n",
              "      <td>757074</td>\n",
              "      <td>333.13</td>\n",
              "      <td>76.0</td>\n",
              "    </tr>\n",
              "    <tr>\n",
              "      <th>1</th>\n",
              "      <td>2</td>\n",
              "      <td>Prometheus</td>\n",
              "      <td>Adventure,Mystery,Sci-Fi</td>\n",
              "      <td>Following clues to the origin of mankind, a te...</td>\n",
              "      <td>Ridley Scott</td>\n",
              "      <td>Noomi Rapace, Logan Marshall-Green, Michael Fa...</td>\n",
              "      <td>2012</td>\n",
              "      <td>124</td>\n",
              "      <td>7.0</td>\n",
              "      <td>485820</td>\n",
              "      <td>126.46</td>\n",
              "      <td>65.0</td>\n",
              "    </tr>\n",
              "    <tr>\n",
              "      <th>2</th>\n",
              "      <td>3</td>\n",
              "      <td>Split</td>\n",
              "      <td>Horror,Thriller</td>\n",
              "      <td>Three girls are kidnapped by a man with a diag...</td>\n",
              "      <td>M. Night Shyamalan</td>\n",
              "      <td>James McAvoy, Anya Taylor-Joy, Haley Lu Richar...</td>\n",
              "      <td>2016</td>\n",
              "      <td>117</td>\n",
              "      <td>7.3</td>\n",
              "      <td>157606</td>\n",
              "      <td>138.12</td>\n",
              "      <td>62.0</td>\n",
              "    </tr>\n",
              "  </tbody>\n",
              "</table>\n",
              "</div>"
            ],
            "text/plain": [
              "   Rank                    Title  ... Revenue (Millions) Metascore\n",
              "0     1  Guardians of the Galaxy  ...             333.13      76.0\n",
              "1     2               Prometheus  ...             126.46      65.0\n",
              "2     3                    Split  ...             138.12      62.0\n",
              "\n",
              "[3 rows x 12 columns]"
            ]
          },
          "metadata": {},
          "execution_count": 4
        }
      ]
    },
    {
      "cell_type": "code",
      "metadata": {
        "colab": {
          "base_uri": "https://localhost:8080/"
        },
        "id": "6iHztndMWcCf",
        "outputId": "07494b11-fc39-4a21-def6-28fa7f2ca309"
      },
      "source": [
        "#Get a count of the number of rows/movies in the data set and the number of colums\n",
        "df.shape"
      ],
      "execution_count": 5,
      "outputs": [
        {
          "output_type": "execute_result",
          "data": {
            "text/plain": [
              "(1000, 12)"
            ]
          },
          "metadata": {},
          "execution_count": 5
        }
      ]
    },
    {
      "cell_type": "code",
      "metadata": {
        "id": "u3Cdi7m1Wghl"
      },
      "source": [
        "#Create a list of important colums for the recommendations engine \n",
        "columns = ['Actors', 'Director', 'Genre','Title']"
      ],
      "execution_count": 6,
      "outputs": []
    },
    {
      "cell_type": "code",
      "metadata": {
        "colab": {
          "base_uri": "https://localhost:8080/",
          "height": 142
        },
        "id": "x81t8BT3Wh5r",
        "outputId": "b3891aeb-6475-4b5c-db69-3c3fbe824277"
      },
      "source": [
        "#Show the data\n",
        "df[columns].head(3)"
      ],
      "execution_count": 8,
      "outputs": [
        {
          "output_type": "execute_result",
          "data": {
            "text/html": [
              "<div>\n",
              "<style scoped>\n",
              "    .dataframe tbody tr th:only-of-type {\n",
              "        vertical-align: middle;\n",
              "    }\n",
              "\n",
              "    .dataframe tbody tr th {\n",
              "        vertical-align: top;\n",
              "    }\n",
              "\n",
              "    .dataframe thead th {\n",
              "        text-align: right;\n",
              "    }\n",
              "</style>\n",
              "<table border=\"1\" class=\"dataframe\">\n",
              "  <thead>\n",
              "    <tr style=\"text-align: right;\">\n",
              "      <th></th>\n",
              "      <th>Actors</th>\n",
              "      <th>Director</th>\n",
              "      <th>Genre</th>\n",
              "      <th>Title</th>\n",
              "    </tr>\n",
              "  </thead>\n",
              "  <tbody>\n",
              "    <tr>\n",
              "      <th>0</th>\n",
              "      <td>Chris Pratt, Vin Diesel, Bradley Cooper, Zoe S...</td>\n",
              "      <td>James Gunn</td>\n",
              "      <td>Action,Adventure,Sci-Fi</td>\n",
              "      <td>Guardians of the Galaxy</td>\n",
              "    </tr>\n",
              "    <tr>\n",
              "      <th>1</th>\n",
              "      <td>Noomi Rapace, Logan Marshall-Green, Michael Fa...</td>\n",
              "      <td>Ridley Scott</td>\n",
              "      <td>Adventure,Mystery,Sci-Fi</td>\n",
              "      <td>Prometheus</td>\n",
              "    </tr>\n",
              "    <tr>\n",
              "      <th>2</th>\n",
              "      <td>James McAvoy, Anya Taylor-Joy, Haley Lu Richar...</td>\n",
              "      <td>M. Night Shyamalan</td>\n",
              "      <td>Horror,Thriller</td>\n",
              "      <td>Split</td>\n",
              "    </tr>\n",
              "  </tbody>\n",
              "</table>\n",
              "</div>"
            ],
            "text/plain": [
              "                                              Actors  ...                    Title\n",
              "0  Chris Pratt, Vin Diesel, Bradley Cooper, Zoe S...  ...  Guardians of the Galaxy\n",
              "1  Noomi Rapace, Logan Marshall-Green, Michael Fa...  ...               Prometheus\n",
              "2  James McAvoy, Anya Taylor-Joy, Haley Lu Richar...  ...                    Split\n",
              "\n",
              "[3 rows x 4 columns]"
            ]
          },
          "metadata": {},
          "execution_count": 8
        }
      ]
    },
    {
      "cell_type": "code",
      "metadata": {
        "colab": {
          "base_uri": "https://localhost:8080/"
        },
        "id": "6Ddb19QmWh8F",
        "outputId": "67e621a8-faa2-4b92-a063-8ab631ae23ba"
      },
      "source": [
        "#Check for any missing values in the important columns \n",
        "df[columns].isnull().values.any()"
      ],
      "execution_count": 9,
      "outputs": [
        {
          "output_type": "execute_result",
          "data": {
            "text/plain": [
              "False"
            ]
          },
          "metadata": {},
          "execution_count": 9
        }
      ]
    },
    {
      "cell_type": "code",
      "metadata": {
        "id": "n3VJ31ALWiBX"
      },
      "source": [
        "#create a function to combine the values of the important columns into a single string \n",
        "def get_important_features(data):\n",
        "\timportant_features = []\n",
        "\tfor i in range(0, data.shape[0]):\n",
        "\t\timportant_features.append(data['Actors'][i]+' '+data['Director'][i]+' '+data['Genre'][i]+' '+data['Title'][i])\n",
        "\n",
        "\treturn important_features "
      ],
      "execution_count": 18,
      "outputs": []
    },
    {
      "cell_type": "code",
      "metadata": {
        "id": "gT8AZ29yWiDw"
      },
      "source": [
        "#create a column to hold the combines strings \n",
        "df['important_features'] = get_important_features(df)"
      ],
      "execution_count": 19,
      "outputs": []
    },
    {
      "cell_type": "code",
      "metadata": {
        "colab": {
          "base_uri": "https://localhost:8080/",
          "height": 464
        },
        "id": "rEPm2-1OWiGN",
        "outputId": "6a7d6683-ff54-4974-cba0-07e162340777"
      },
      "source": [
        "#show the data\n",
        "df.head(3)"
      ],
      "execution_count": 20,
      "outputs": [
        {
          "output_type": "execute_result",
          "data": {
            "text/html": [
              "<div>\n",
              "<style scoped>\n",
              "    .dataframe tbody tr th:only-of-type {\n",
              "        vertical-align: middle;\n",
              "    }\n",
              "\n",
              "    .dataframe tbody tr th {\n",
              "        vertical-align: top;\n",
              "    }\n",
              "\n",
              "    .dataframe thead th {\n",
              "        text-align: right;\n",
              "    }\n",
              "</style>\n",
              "<table border=\"1\" class=\"dataframe\">\n",
              "  <thead>\n",
              "    <tr style=\"text-align: right;\">\n",
              "      <th></th>\n",
              "      <th>Rank</th>\n",
              "      <th>Title</th>\n",
              "      <th>Genre</th>\n",
              "      <th>Description</th>\n",
              "      <th>Director</th>\n",
              "      <th>Actors</th>\n",
              "      <th>Year</th>\n",
              "      <th>Runtime (Minutes)</th>\n",
              "      <th>Rating</th>\n",
              "      <th>Votes</th>\n",
              "      <th>Revenue (Millions)</th>\n",
              "      <th>Metascore</th>\n",
              "      <th>important_features</th>\n",
              "    </tr>\n",
              "  </thead>\n",
              "  <tbody>\n",
              "    <tr>\n",
              "      <th>0</th>\n",
              "      <td>1</td>\n",
              "      <td>Guardians of the Galaxy</td>\n",
              "      <td>Action,Adventure,Sci-Fi</td>\n",
              "      <td>A group of intergalactic criminals are forced ...</td>\n",
              "      <td>James Gunn</td>\n",
              "      <td>Chris Pratt, Vin Diesel, Bradley Cooper, Zoe S...</td>\n",
              "      <td>2014</td>\n",
              "      <td>121</td>\n",
              "      <td>8.1</td>\n",
              "      <td>757074</td>\n",
              "      <td>333.13</td>\n",
              "      <td>76.0</td>\n",
              "      <td>Chris Pratt, Vin Diesel, Bradley Cooper, Zoe S...</td>\n",
              "    </tr>\n",
              "    <tr>\n",
              "      <th>1</th>\n",
              "      <td>2</td>\n",
              "      <td>Prometheus</td>\n",
              "      <td>Adventure,Mystery,Sci-Fi</td>\n",
              "      <td>Following clues to the origin of mankind, a te...</td>\n",
              "      <td>Ridley Scott</td>\n",
              "      <td>Noomi Rapace, Logan Marshall-Green, Michael Fa...</td>\n",
              "      <td>2012</td>\n",
              "      <td>124</td>\n",
              "      <td>7.0</td>\n",
              "      <td>485820</td>\n",
              "      <td>126.46</td>\n",
              "      <td>65.0</td>\n",
              "      <td>Noomi Rapace, Logan Marshall-Green, Michael Fa...</td>\n",
              "    </tr>\n",
              "    <tr>\n",
              "      <th>2</th>\n",
              "      <td>3</td>\n",
              "      <td>Split</td>\n",
              "      <td>Horror,Thriller</td>\n",
              "      <td>Three girls are kidnapped by a man with a diag...</td>\n",
              "      <td>M. Night Shyamalan</td>\n",
              "      <td>James McAvoy, Anya Taylor-Joy, Haley Lu Richar...</td>\n",
              "      <td>2016</td>\n",
              "      <td>117</td>\n",
              "      <td>7.3</td>\n",
              "      <td>157606</td>\n",
              "      <td>138.12</td>\n",
              "      <td>62.0</td>\n",
              "      <td>James McAvoy, Anya Taylor-Joy, Haley Lu Richar...</td>\n",
              "    </tr>\n",
              "  </tbody>\n",
              "</table>\n",
              "</div>"
            ],
            "text/plain": [
              "   Rank  ...                                 important_features\n",
              "0     1  ...  Chris Pratt, Vin Diesel, Bradley Cooper, Zoe S...\n",
              "1     2  ...  Noomi Rapace, Logan Marshall-Green, Michael Fa...\n",
              "2     3  ...  James McAvoy, Anya Taylor-Joy, Haley Lu Richar...\n",
              "\n",
              "[3 rows x 13 columns]"
            ]
          },
          "metadata": {},
          "execution_count": 20
        }
      ]
    },
    {
      "cell_type": "code",
      "metadata": {
        "id": "6CajOIOCWiIV"
      },
      "source": [
        "#convert the text to a matrix of token counts \n",
        "cm = CountVectorizer().fit_transform(df['important_features'])"
      ],
      "execution_count": 22,
      "outputs": []
    },
    {
      "cell_type": "code",
      "metadata": {
        "colab": {
          "base_uri": "https://localhost:8080/"
        },
        "id": "tva2KPlwWsDY",
        "outputId": "2f8409eb-6474-4c65-c06d-731a60041459"
      },
      "source": [
        "#Get the cosine similiarity matrix from the count matrix\n",
        "cs = cosine_similarity(cm)\n",
        "#print the cosine similairty matrix \n",
        "print(cs)"
      ],
      "execution_count": 24,
      "outputs": [
        {
          "output_type": "stream",
          "name": "stdout",
          "text": [
            "[[1.         0.1767767  0.06085806 ... 0.0571662  0.06537205 0.        ]\n",
            " [0.1767767  1.         0.         ... 0.         0.06933752 0.        ]\n",
            " [0.06085806 0.         1.         ... 0.         0.         0.        ]\n",
            " ...\n",
            " [0.0571662  0.         0.         ... 1.         0.06726728 0.        ]\n",
            " [0.06537205 0.06933752 0.         ... 0.06726728 1.         0.07161149]\n",
            " [0.         0.         0.         ... 0.         0.07161149 1.        ]]\n"
          ]
        }
      ]
    },
    {
      "cell_type": "code",
      "metadata": {
        "colab": {
          "base_uri": "https://localhost:8080/"
        },
        "id": "77x6oEdRWsFh",
        "outputId": "976065e7-f1dd-4269-cc4d-4b2d45d9df99"
      },
      "source": [
        "#Get the shape of the cosine similarity matrix \n",
        "cs.shape"
      ],
      "execution_count": 25,
      "outputs": [
        {
          "output_type": "execute_result",
          "data": {
            "text/plain": [
              "(1000, 1000)"
            ]
          },
          "metadata": {},
          "execution_count": 25
        }
      ]
    },
    {
      "cell_type": "code",
      "metadata": {
        "id": "UAqd_UqKWsH3"
      },
      "source": [
        "#Get the title of the movie that the user likes \n",
        "title = 'The Amazing Spider-Man'"
      ],
      "execution_count": 26,
      "outputs": []
    },
    {
      "cell_type": "code",
      "metadata": {
        "id": "6apmLcDmWsJo"
      },
      "source": [
        "#Get the title of the movie that the user likes \n",
        "title = 'The Amazing Spider-Man'\n",
        "\n",
        "#Find the movies id \n",
        "movie_id = df[df.Title == title]['Rank'].values[0]"
      ],
      "execution_count": 34,
      "outputs": []
    },
    {
      "cell_type": "code",
      "metadata": {
        "id": "AN6QMvThWsLs"
      },
      "source": [
        "#create a list of enumerations for the similarities score [ (movie_id, similairity score), (...) ]\n",
        "scores = list(enumerate(cs[movie_id]))\n"
      ],
      "execution_count": 35,
      "outputs": []
    },
    {
      "cell_type": "code",
      "metadata": {
        "id": "yXp6coEHWsNw"
      },
      "source": [
        "#sort the list \n",
        "sorted_scores = sorted(scores, key = lambda x:x[1], reverse = True)\n",
        "sorted_scores = sorted_scores[1:]"
      ],
      "execution_count": 36,
      "outputs": []
    },
    {
      "cell_type": "code",
      "metadata": {
        "colab": {
          "base_uri": "https://localhost:8080/"
        },
        "id": "JGp0PbClWgu-",
        "outputId": "f0c33e2d-546f-4afc-d70d-23f3d8834aec"
      },
      "source": [
        "#print the sorted scores \n",
        "print(sorted_scores)\n"
      ],
      "execution_count": 37,
      "outputs": [
        {
          "output_type": "stream",
          "name": "stdout",
          "text": [
            "[(516, 0.25048971643405976), (177, 0.2369395511036369), (619, 0.21535276082326618), (72, 0.21483446221182984), (26, 0.20701966780270625), (89, 0.20701966780270625), (91, 0.20701966780270625), (149, 0.20701966780270625), (373, 0.20701966780270625), (488, 0.20701966780270625), (718, 0.20701966780270625), (856, 0.20701966780270625), (920, 0.20701966780270625), (29, 0.19999999999999996), (58, 0.19999999999999996), (210, 0.19999999999999996), (232, 0.19999999999999996), (301, 0.19999999999999996), (355, 0.19999999999999996), (385, 0.19999999999999996), (693, 0.19999999999999996), (735, 0.19999999999999996), (787, 0.19999999999999996), (880, 0.19999999999999996), (125, 0.19364916731037082), (387, 0.19364916731037082), (436, 0.19364916731037082), (576, 0.19364916731037082), (603, 0.19364916731037082), (854, 0.19364916731037082), (107, 0.1878672873255448), (268, 0.1878672873255448), (491, 0.1878672873255448), (126, 0.18257418583505536), (163, 0.18257418583505536), (234, 0.18257418583505536), (474, 0.18257418583505536), (564, 0.18257418583505536), (60, 0.17770466332772766), (86, 0.17770466332772766), (460, 0.17770466332772766), (78, 0.1732050807568877), (422, 0.1732050807568877), (558, 0.1690308509457033), (803, 0.1690308509457033), (806, 0.16514456476895406), (176, 0.15491933384829668), (284, 0.14322297480788657), (586, 0.14322297480788657), (769, 0.14322297480788657), (9, 0.13801311186847084), (47, 0.13801311186847084), (55, 0.13801311186847084), (71, 0.13801311186847084), (87, 0.13801311186847084), (101, 0.13801311186847084), (169, 0.13801311186847084), (175, 0.13801311186847084), (194, 0.13801311186847084), (204, 0.13801311186847084), (228, 0.13801311186847084), (240, 0.13801311186847084), (256, 0.13801311186847084), (270, 0.13801311186847084), (275, 0.13801311186847084), (370, 0.13801311186847084), (372, 0.13801311186847084), (375, 0.13801311186847084), (400, 0.13801311186847084), (420, 0.13801311186847084), (448, 0.13801311186847084), (452, 0.13801311186847084), (464, 0.13801311186847084), (482, 0.13801311186847084), (511, 0.13801311186847084), (517, 0.13801311186847084), (522, 0.13801311186847084), (587, 0.13801311186847084), (634, 0.13801311186847084), (654, 0.13801311186847084), (703, 0.13801311186847084), (789, 0.13801311186847084), (802, 0.13801311186847084), (4, 0.1333333333333333), (14, 0.1333333333333333), (20, 0.1333333333333333), (33, 0.1333333333333333), (36, 0.1333333333333333), (69, 0.1333333333333333), (77, 0.1333333333333333), (99, 0.1333333333333333), (117, 0.1333333333333333), (140, 0.1333333333333333), (147, 0.1333333333333333), (153, 0.1333333333333333), (161, 0.1333333333333333), (164, 0.1333333333333333), (179, 0.1333333333333333), (212, 0.1333333333333333), (213, 0.1333333333333333), (217, 0.1333333333333333), (227, 0.1333333333333333), (239, 0.1333333333333333), (331, 0.1333333333333333), (334, 0.1333333333333333), (341, 0.1333333333333333), (344, 0.1333333333333333), (379, 0.1333333333333333), (391, 0.1333333333333333), (472, 0.1333333333333333), (479, 0.1333333333333333), (484, 0.1333333333333333), (485, 0.1333333333333333), (513, 0.1333333333333333), (526, 0.1333333333333333), (536, 0.1333333333333333), (557, 0.1333333333333333), (569, 0.1333333333333333), (577, 0.1333333333333333), (597, 0.1333333333333333), (600, 0.1333333333333333), (625, 0.1333333333333333), (669, 0.1333333333333333), (687, 0.1333333333333333), (694, 0.1333333333333333), (721, 0.1333333333333333), (728, 0.1333333333333333), (743, 0.1333333333333333), (755, 0.1333333333333333), (759, 0.1333333333333333), (796, 0.1333333333333333), (808, 0.1333333333333333), (810, 0.1333333333333333), (817, 0.1333333333333333), (833, 0.1333333333333333), (892, 0.1333333333333333), (897, 0.1333333333333333), (958, 0.1333333333333333), (5, 0.12909944487358055), (12, 0.12909944487358055), (22, 0.12909944487358055), (32, 0.12909944487358055), (38, 0.12909944487358055), (51, 0.12909944487358055), (54, 0.12909944487358055), (80, 0.12909944487358055), (83, 0.12909944487358055), (102, 0.12909944487358055), (104, 0.12909944487358055), (129, 0.12909944487358055), (131, 0.12909944487358055), (168, 0.12909944487358055), (205, 0.12909944487358055), (220, 0.12909944487358055), (281, 0.12909944487358055), (283, 0.12909944487358055), (287, 0.12909944487358055), (294, 0.12909944487358055), (315, 0.12909944487358055), (342, 0.12909944487358055), (345, 0.12909944487358055), (368, 0.12909944487358055), (389, 0.12909944487358055), (414, 0.12909944487358055), (424, 0.12909944487358055), (431, 0.12909944487358055), (432, 0.12909944487358055), (454, 0.12909944487358055), (528, 0.12909944487358055), (529, 0.12909944487358055), (537, 0.12909944487358055), (552, 0.12909944487358055), (563, 0.12909944487358055), (574, 0.12909944487358055), (581, 0.12909944487358055), (596, 0.12909944487358055), (601, 0.12909944487358055), (615, 0.12909944487358055), (673, 0.12909944487358055), (704, 0.12909944487358055), (724, 0.12909944487358055), (737, 0.12909944487358055), (758, 0.12909944487358055), (770, 0.12909944487358055), (781, 0.12909944487358055), (869, 0.12909944487358055), (901, 0.12909944487358055), (912, 0.12909944487358055), (924, 0.12909944487358055), (959, 0.12909944487358055), (969, 0.12909944487358055), (993, 0.12909944487358055), (8, 0.12524485821702988), (24, 0.12524485821702988), (37, 0.12524485821702988), (48, 0.12524485821702988), (65, 0.12524485821702988), (85, 0.12524485821702988), (105, 0.12524485821702988), (166, 0.12524485821702988), (197, 0.12524485821702988), (200, 0.12524485821702988), (203, 0.12524485821702988), (214, 0.12524485821702988), (215, 0.12524485821702988), (233, 0.12524485821702988), (238, 0.12524485821702988), (273, 0.12524485821702988), (362, 0.12524485821702988), (378, 0.12524485821702988), (388, 0.12524485821702988), (396, 0.12524485821702988), (433, 0.12524485821702988), (450, 0.12524485821702988), (496, 0.12524485821702988), (525, 0.12524485821702988), (575, 0.12524485821702988), (626, 0.12524485821702988), (657, 0.12524485821702988), (698, 0.12524485821702988), (741, 0.12524485821702988), (878, 0.12524485821702988), (879, 0.12524485821702988), (916, 0.12524485821702988), (919, 0.12524485821702988), (938, 0.12524485821702988), (941, 0.12524485821702988), (0, 0.12171612389003691), (67, 0.12171612389003691), (243, 0.12171612389003691), (253, 0.12171612389003691), (279, 0.12171612389003691), (290, 0.12171612389003691), (316, 0.12171612389003691), (325, 0.12171612389003691), (384, 0.12171612389003691), (423, 0.12171612389003691), (447, 0.12171612389003691), (535, 0.12171612389003691), (568, 0.12171612389003691), (617, 0.12171612389003691), (827, 0.12171612389003691), (871, 0.12171612389003691), (903, 0.12171612389003691), (918, 0.12171612389003691), (948, 0.12171612389003691), (990, 0.12171612389003691), (35, 0.11846977555181845), (50, 0.11846977555181845), (120, 0.11846977555181845), (156, 0.11846977555181845), (162, 0.11846977555181845), (195, 0.11846977555181845), (216, 0.11846977555181845), (366, 0.11846977555181845), (434, 0.11846977555181845), (465, 0.11846977555181845), (560, 0.11846977555181845), (609, 0.11846977555181845), (710, 0.11846977555181845), (772, 0.11846977555181845), (809, 0.11846977555181845), (925, 0.11846977555181845), (45, 0.11547005383792514), (75, 0.11547005383792514), (114, 0.11547005383792514), (566, 0.11547005383792514), (662, 0.11547005383792514), (822, 0.11547005383792514), (910, 0.11547005383792514), (953, 0.11547005383792514), (94, 0.1126872339638022), (264, 0.1126872339638022), (408, 0.1126872339638022), (578, 0.1126872339638022), (679, 0.1126872339638022), (680, 0.1126872339638022), (739, 0.11009637651263604), (629, 0.10540925533894598), (767, 0.10540925533894598), (257, 0.10327955589886445), (757, 0.0778498944161523), (41, 0.07453559924999299), (68, 0.07453559924999299), (133, 0.07453559924999299), (143, 0.07453559924999299), (430, 0.07453559924999299), (656, 0.07453559924999299), (863, 0.07453559924999299), (926, 0.07453559924999299), (18, 0.07161148740394328), (44, 0.07161148740394328), (59, 0.07161148740394328), (152, 0.07161148740394328), (185, 0.07161148740394328), (207, 0.07161148740394328), (225, 0.07161148740394328), (251, 0.07161148740394328), (317, 0.07161148740394328), (350, 0.07161148740394328), (351, 0.07161148740394328), (365, 0.07161148740394328), (377, 0.07161148740394328), (381, 0.07161148740394328), (410, 0.07161148740394328), (419, 0.07161148740394328), (421, 0.07161148740394328), (437, 0.07161148740394328), (441, 0.07161148740394328), (462, 0.07161148740394328), (501, 0.07161148740394328), (544, 0.07161148740394328), (549, 0.07161148740394328), (591, 0.07161148740394328), (605, 0.07161148740394328), (606, 0.07161148740394328), (608, 0.07161148740394328), (622, 0.07161148740394328), (624, 0.07161148740394328), (637, 0.07161148740394328), (646, 0.07161148740394328), (659, 0.07161148740394328), (664, 0.07161148740394328), (686, 0.07161148740394328), (692, 0.07161148740394328), (740, 0.07161148740394328), (816, 0.07161148740394328), (842, 0.07161148740394328), (844, 0.07161148740394328), (845, 0.07161148740394328), (846, 0.07161148740394328), (849, 0.07161148740394328), (866, 0.07161148740394328), (877, 0.07161148740394328), (890, 0.07161148740394328), (909, 0.07161148740394328), (932, 0.07161148740394328), (937, 0.07161148740394328), (964, 0.07161148740394328), (966, 0.07161148740394328), (998, 0.07161148740394328), (13, 0.06900655593423542), (49, 0.06900655593423542), (52, 0.06900655593423542), (66, 0.06900655593423542), (73, 0.06900655593423542), (74, 0.06900655593423542), (79, 0.06900655593423542), (81, 0.06900655593423542), (90, 0.06900655593423542), (92, 0.06900655593423542), (100, 0.06900655593423542), (108, 0.06900655593423542), (113, 0.06900655593423542), (123, 0.06900655593423542), (127, 0.06900655593423542), (134, 0.06900655593423542), (138, 0.06900655593423542), (144, 0.06900655593423542), (165, 0.06900655593423542), (170, 0.06900655593423542), (174, 0.06900655593423542), (188, 0.06900655593423542), (189, 0.06900655593423542), (191, 0.06900655593423542), (192, 0.06900655593423542), (218, 0.06900655593423542), (236, 0.06900655593423542), (242, 0.06900655593423542), (248, 0.06900655593423542), (261, 0.06900655593423542), (263, 0.06900655593423542), (285, 0.06900655593423542), (288, 0.06900655593423542), (293, 0.06900655593423542), (295, 0.06900655593423542), (312, 0.06900655593423542), (322, 0.06900655593423542), (329, 0.06900655593423542), (330, 0.06900655593423542), (346, 0.06900655593423542), (347, 0.06900655593423542), (352, 0.06900655593423542), (363, 0.06900655593423542), (386, 0.06900655593423542), (390, 0.06900655593423542), (392, 0.06900655593423542), (399, 0.06900655593423542), (407, 0.06900655593423542), (409, 0.06900655593423542), (413, 0.06900655593423542), (416, 0.06900655593423542), (417, 0.06900655593423542), (435, 0.06900655593423542), (443, 0.06900655593423542), (446, 0.06900655593423542), (449, 0.06900655593423542), (451, 0.06900655593423542), (459, 0.06900655593423542), (466, 0.06900655593423542), (478, 0.06900655593423542), (483, 0.06900655593423542), (486, 0.06900655593423542), (492, 0.06900655593423542), (499, 0.06900655593423542), (503, 0.06900655593423542), (515, 0.06900655593423542), (524, 0.06900655593423542), (534, 0.06900655593423542), (548, 0.06900655593423542), (551, 0.06900655593423542), (554, 0.06900655593423542), (565, 0.06900655593423542), (589, 0.06900655593423542), (599, 0.06900655593423542), (611, 0.06900655593423542), (620, 0.06900655593423542), (638, 0.06900655593423542), (643, 0.06900655593423542), (648, 0.06900655593423542), (666, 0.06900655593423542), (684, 0.06900655593423542), (734, 0.06900655593423542), (750, 0.06900655593423542), (756, 0.06900655593423542), (763, 0.06900655593423542), (765, 0.06900655593423542), (777, 0.06900655593423542), (786, 0.06900655593423542), (824, 0.06900655593423542), (828, 0.06900655593423542), (834, 0.06900655593423542), (836, 0.06900655593423542), (839, 0.06900655593423542), (841, 0.06900655593423542), (850, 0.06900655593423542), (851, 0.06900655593423542), (859, 0.06900655593423542), (865, 0.06900655593423542), (873, 0.06900655593423542), (882, 0.06900655593423542), (883, 0.06900655593423542), (885, 0.06900655593423542), (896, 0.06900655593423542), (930, 0.06900655593423542), (945, 0.06900655593423542), (946, 0.06900655593423542), (947, 0.06900655593423542), (951, 0.06900655593423542), (956, 0.06900655593423542), (968, 0.06900655593423542), (971, 0.06900655593423542), (981, 0.06900655593423542), (984, 0.06900655593423542), (987, 0.06900655593423542), (989, 0.06900655593423542), (11, 0.06666666666666665), (16, 0.06666666666666665), (17, 0.06666666666666665), (19, 0.06666666666666665), (21, 0.06666666666666665), (23, 0.06666666666666665), (31, 0.06666666666666665), (40, 0.06666666666666665), (46, 0.06666666666666665), (53, 0.06666666666666665), (57, 0.06666666666666665), (84, 0.06666666666666665), (93, 0.06666666666666665), (119, 0.06666666666666665), (121, 0.06666666666666665), (137, 0.06666666666666665), (150, 0.06666666666666665), (159, 0.06666666666666665), (172, 0.06666666666666665), (173, 0.06666666666666665), (182, 0.06666666666666665), (202, 0.06666666666666665), (206, 0.06666666666666665), (211, 0.06666666666666665), (226, 0.06666666666666665), (237, 0.06666666666666665), (241, 0.06666666666666665), (245, 0.06666666666666665), (247, 0.06666666666666665), (250, 0.06666666666666665), (274, 0.06666666666666665), (277, 0.06666666666666665), (298, 0.06666666666666665), (319, 0.06666666666666665), (321, 0.06666666666666665), (324, 0.06666666666666665), (335, 0.06666666666666665), (340, 0.06666666666666665), (353, 0.06666666666666665), (354, 0.06666666666666665), (356, 0.06666666666666665), (359, 0.06666666666666665), (376, 0.06666666666666665), (402, 0.06666666666666665), (403, 0.06666666666666665), (412, 0.06666666666666665), (415, 0.06666666666666665), (453, 0.06666666666666665), (455, 0.06666666666666665), (456, 0.06666666666666665), (463, 0.06666666666666665), (468, 0.06666666666666665), (470, 0.06666666666666665), (471, 0.06666666666666665), (487, 0.06666666666666665), (493, 0.06666666666666665), (509, 0.06666666666666665), (521, 0.06666666666666665), (530, 0.06666666666666665), (538, 0.06666666666666665), (543, 0.06666666666666665), (559, 0.06666666666666665), (567, 0.06666666666666665), (572, 0.06666666666666665), (573, 0.06666666666666665), (580, 0.06666666666666665), (584, 0.06666666666666665), (588, 0.06666666666666665), (592, 0.06666666666666665), (598, 0.06666666666666665), (610, 0.06666666666666665), (618, 0.06666666666666665), (621, 0.06666666666666665), (627, 0.06666666666666665), (641, 0.06666666666666665), (649, 0.06666666666666665), (651, 0.06666666666666665), (663, 0.06666666666666665), (665, 0.06666666666666665), (668, 0.06666666666666665), (670, 0.06666666666666665), (671, 0.06666666666666665), (676, 0.06666666666666665), (682, 0.06666666666666665), (688, 0.06666666666666665), (691, 0.06666666666666665), (702, 0.06666666666666665), (707, 0.06666666666666665), (709, 0.06666666666666665), (713, 0.06666666666666665), (720, 0.06666666666666665), (727, 0.06666666666666665), (731, 0.06666666666666665), (738, 0.06666666666666665), (752, 0.06666666666666665), (753, 0.06666666666666665), (754, 0.06666666666666665), (760, 0.06666666666666665), (766, 0.06666666666666665), (768, 0.06666666666666665), (771, 0.06666666666666665), (780, 0.06666666666666665), (782, 0.06666666666666665), (797, 0.06666666666666665), (805, 0.06666666666666665), (815, 0.06666666666666665), (823, 0.06666666666666665), (826, 0.06666666666666665), (832, 0.06666666666666665), (855, 0.06666666666666665), (857, 0.06666666666666665), (860, 0.06666666666666665), (884, 0.06666666666666665), (895, 0.06666666666666665), (904, 0.06666666666666665), (914, 0.06666666666666665), (922, 0.06666666666666665), (923, 0.06666666666666665), (929, 0.06666666666666665), (931, 0.06666666666666665), (944, 0.06666666666666665), (949, 0.06666666666666665), (965, 0.06666666666666665), (1, 0.06454972243679027), (39, 0.06454972243679027), (64, 0.06454972243679027), (70, 0.06454972243679027), (76, 0.06454972243679027), (95, 0.06454972243679027), (98, 0.06454972243679027), (109, 0.06454972243679027), (124, 0.06454972243679027), (130, 0.06454972243679027), (142, 0.06454972243679027), (157, 0.06454972243679027), (167, 0.06454972243679027), (184, 0.06454972243679027), (187, 0.06454972243679027), (190, 0.06454972243679027), (196, 0.06454972243679027), (198, 0.06454972243679027), (199, 0.06454972243679027), (201, 0.06454972243679027), (219, 0.06454972243679027), (221, 0.06454972243679027), (230, 0.06454972243679027), (231, 0.06454972243679027), (249, 0.06454972243679027), (262, 0.06454972243679027), (272, 0.06454972243679027), (276, 0.06454972243679027), (297, 0.06454972243679027), (300, 0.06454972243679027), (305, 0.06454972243679027), (307, 0.06454972243679027), (323, 0.06454972243679027), (332, 0.06454972243679027), (333, 0.06454972243679027), (343, 0.06454972243679027), (374, 0.06454972243679027), (383, 0.06454972243679027), (404, 0.06454972243679027), (405, 0.06454972243679027), (406, 0.06454972243679027), (427, 0.06454972243679027), (445, 0.06454972243679027), (469, 0.06454972243679027), (475, 0.06454972243679027), (480, 0.06454972243679027), (481, 0.06454972243679027), (490, 0.06454972243679027), (498, 0.06454972243679027), (502, 0.06454972243679027), (514, 0.06454972243679027), (523, 0.06454972243679027), (527, 0.06454972243679027), (532, 0.06454972243679027), (533, 0.06454972243679027), (542, 0.06454972243679027), (545, 0.06454972243679027), (553, 0.06454972243679027), (579, 0.06454972243679027), (585, 0.06454972243679027), (612, 0.06454972243679027), (630, 0.06454972243679027), (644, 0.06454972243679027), (658, 0.06454972243679027), (660, 0.06454972243679027), (661, 0.06454972243679027), (672, 0.06454972243679027), (685, 0.06454972243679027), (695, 0.06454972243679027), (697, 0.06454972243679027), (747, 0.06454972243679027), (774, 0.06454972243679027), (775, 0.06454972243679027), (794, 0.06454972243679027), (814, 0.06454972243679027), (820, 0.06454972243679027), (838, 0.06454972243679027), (847, 0.06454972243679027), (853, 0.06454972243679027), (861, 0.06454972243679027), (872, 0.06454972243679027), (886, 0.06454972243679027), (887, 0.06454972243679027), (927, 0.06454972243679027), (954, 0.06454972243679027), (957, 0.06454972243679027), (960, 0.06454972243679027), (972, 0.06454972243679027), (974, 0.06454972243679027), (979, 0.06454972243679027), (980, 0.06454972243679027), (985, 0.06454972243679027), (6, 0.06262242910851494), (15, 0.06262242910851494), (88, 0.06262242910851494), (96, 0.06262242910851494), (151, 0.06262242910851494), (154, 0.06262242910851494), (235, 0.06262242910851494), (246, 0.06262242910851494), (267, 0.06262242910851494), (271, 0.06262242910851494), (286, 0.06262242910851494), (296, 0.06262242910851494), (310, 0.06262242910851494), (311, 0.06262242910851494), (326, 0.06262242910851494), (336, 0.06262242910851494), (337, 0.06262242910851494), (338, 0.06262242910851494), (357, 0.06262242910851494), (367, 0.06262242910851494), (495, 0.06262242910851494), (504, 0.06262242910851494), (505, 0.06262242910851494), (519, 0.06262242910851494), (547, 0.06262242910851494), (550, 0.06262242910851494), (628, 0.06262242910851494), (633, 0.06262242910851494), (645, 0.06262242910851494), (655, 0.06262242910851494), (689, 0.06262242910851494), (690, 0.06262242910851494), (700, 0.06262242910851494), (712, 0.06262242910851494), (714, 0.06262242910851494), (732, 0.06262242910851494), (744, 0.06262242910851494), (762, 0.06262242910851494), (779, 0.06262242910851494), (785, 0.06262242910851494), (793, 0.06262242910851494), (798, 0.06262242910851494), (799, 0.06262242910851494), (807, 0.06262242910851494), (852, 0.06262242910851494), (870, 0.06262242910851494), (900, 0.06262242910851494), (917, 0.06262242910851494), (962, 0.06262242910851494), (967, 0.06262242910851494), (976, 0.06262242910851494), (982, 0.06262242910851494), (992, 0.06262242910851494), (995, 0.06262242910851494), (997, 0.06262242910851494), (132, 0.06085806194501846), (146, 0.06085806194501846), (155, 0.06085806194501846), (171, 0.06085806194501846), (265, 0.06085806194501846), (371, 0.06085806194501846), (395, 0.06085806194501846), (438, 0.06085806194501846), (440, 0.06085806194501846), (494, 0.06085806194501846), (506, 0.06085806194501846), (539, 0.06085806194501846), (590, 0.06085806194501846), (595, 0.06085806194501846), (640, 0.06085806194501846), (667, 0.06085806194501846), (674, 0.06085806194501846), (696, 0.06085806194501846), (708, 0.06085806194501846), (761, 0.06085806194501846), (773, 0.06085806194501846), (821, 0.06085806194501846), (830, 0.06085806194501846), (837, 0.06085806194501846), (867, 0.06085806194501846), (875, 0.06085806194501846), (881, 0.06085806194501846), (894, 0.06085806194501846), (905, 0.06085806194501846), (915, 0.06085806194501846), (939, 0.06085806194501846), (34, 0.059234887775909226), (43, 0.059234887775909226), (110, 0.059234887775909226), (111, 0.059234887775909226), (122, 0.059234887775909226), (136, 0.059234887775909226), (158, 0.059234887775909226), (186, 0.059234887775909226), (306, 0.059234887775909226), (320, 0.059234887775909226), (425, 0.059234887775909226), (429, 0.059234887775909226), (507, 0.059234887775909226), (604, 0.059234887775909226), (681, 0.059234887775909226), (742, 0.059234887775909226), (889, 0.059234887775909226), (893, 0.059234887775909226), (906, 0.059234887775909226), (921, 0.059234887775909226), (952, 0.059234887775909226), (961, 0.059234887775909226), (10, 0.05773502691896257), (62, 0.05773502691896257), (63, 0.05773502691896257), (118, 0.05773502691896257), (252, 0.05773502691896257), (299, 0.05773502691896257), (418, 0.05773502691896257), (426, 0.05773502691896257), (473, 0.05773502691896257), (476, 0.05773502691896257), (500, 0.05773502691896257), (518, 0.05773502691896257), (546, 0.05773502691896257), (583, 0.05773502691896257), (683, 0.05773502691896257), (749, 0.05773502691896257), (784, 0.05773502691896257), (874, 0.05773502691896257), (978, 0.05773502691896257), (991, 0.05773502691896257), (135, 0.0563436169819011), (145, 0.0563436169819011), (209, 0.0563436169819011), (223, 0.0563436169819011), (260, 0.0563436169819011), (510, 0.0563436169819011), (602, 0.0563436169819011), (843, 0.0563436169819011), (935, 0.0563436169819011), (327, 0.05504818825631802), (650, 0.05504818825631802), (950, 0.05504818825631802), (259, 0.053838190205816545), (308, 0.053838190205816545), (314, 0.053838190205816545), (614, 0.053838190205816545), (632, 0.053838190205816545), (244, 0.05270462766947299), (313, 0.050636968354183326), (613, 0.050636968354183326), (2, 0.0), (3, 0.0), (7, 0.0), (25, 0.0), (27, 0.0), (28, 0.0), (30, 0.0), (42, 0.0), (56, 0.0), (61, 0.0), (82, 0.0), (97, 0.0), (103, 0.0), (106, 0.0), (112, 0.0), (115, 0.0), (116, 0.0), (128, 0.0), (139, 0.0), (141, 0.0), (148, 0.0), (160, 0.0), (178, 0.0), (180, 0.0), (181, 0.0), (183, 0.0), (193, 0.0), (208, 0.0), (222, 0.0), (224, 0.0), (229, 0.0), (254, 0.0), (255, 0.0), (258, 0.0), (266, 0.0), (269, 0.0), (278, 0.0), (280, 0.0), (282, 0.0), (289, 0.0), (291, 0.0), (292, 0.0), (302, 0.0), (303, 0.0), (304, 0.0), (309, 0.0), (318, 0.0), (328, 0.0), (339, 0.0), (348, 0.0), (349, 0.0), (358, 0.0), (360, 0.0), (361, 0.0), (364, 0.0), (380, 0.0), (382, 0.0), (393, 0.0), (394, 0.0), (397, 0.0), (398, 0.0), (401, 0.0), (411, 0.0), (428, 0.0), (439, 0.0), (442, 0.0), (444, 0.0), (457, 0.0), (458, 0.0), (461, 0.0), (467, 0.0), (477, 0.0), (489, 0.0), (497, 0.0), (508, 0.0), (512, 0.0), (520, 0.0), (531, 0.0), (540, 0.0), (541, 0.0), (555, 0.0), (556, 0.0), (561, 0.0), (562, 0.0), (570, 0.0), (571, 0.0), (582, 0.0), (593, 0.0), (594, 0.0), (607, 0.0), (616, 0.0), (623, 0.0), (631, 0.0), (635, 0.0), (636, 0.0), (639, 0.0), (642, 0.0), (647, 0.0), (652, 0.0), (653, 0.0), (675, 0.0), (677, 0.0), (678, 0.0), (699, 0.0), (701, 0.0), (705, 0.0), (706, 0.0), (711, 0.0), (715, 0.0), (716, 0.0), (717, 0.0), (719, 0.0), (722, 0.0), (723, 0.0), (725, 0.0), (726, 0.0), (729, 0.0), (730, 0.0), (733, 0.0), (736, 0.0), (745, 0.0), (746, 0.0), (748, 0.0), (751, 0.0), (764, 0.0), (776, 0.0), (778, 0.0), (783, 0.0), (788, 0.0), (790, 0.0), (791, 0.0), (792, 0.0), (795, 0.0), (800, 0.0), (801, 0.0), (804, 0.0), (811, 0.0), (812, 0.0), (813, 0.0), (818, 0.0), (819, 0.0), (825, 0.0), (829, 0.0), (831, 0.0), (835, 0.0), (840, 0.0), (848, 0.0), (858, 0.0), (862, 0.0), (864, 0.0), (868, 0.0), (876, 0.0), (888, 0.0), (891, 0.0), (898, 0.0), (899, 0.0), (902, 0.0), (907, 0.0), (908, 0.0), (911, 0.0), (913, 0.0), (928, 0.0), (933, 0.0), (934, 0.0), (936, 0.0), (940, 0.0), (942, 0.0), (943, 0.0), (955, 0.0), (963, 0.0), (970, 0.0), (973, 0.0), (975, 0.0), (977, 0.0), (983, 0.0), (986, 0.0), (988, 0.0), (994, 0.0), (996, 0.0), (999, 0.0)]\n"
          ]
        }
      ]
    },
    {
      "cell_type": "code",
      "metadata": {
        "colab": {
          "base_uri": "https://localhost:8080/"
        },
        "id": "AFZMhpdNW11M",
        "outputId": "79ddf20f-9c03-42f9-ca40-7fcdc9b9c329"
      },
      "source": [
        "#create a loop to print the first 7 similar movies\n",
        "j = 0\n",
        "print('The 7 most recommended movies to', title, 'are:\\n')\n",
        "for item in sorted_scores:\n",
        "\tmovie_title = df[df.Rank == item[0]]['Title'].values[0]\n",
        "\tprint(j+1, movie_title)\n",
        "\tj= j+1\n",
        "\tif j>6:\n",
        "\t\tbreak\n"
      ],
      "execution_count": 39,
      "outputs": [
        {
          "output_type": "stream",
          "name": "stdout",
          "text": [
            "The 7 most recommended movies to The Amazing Spider-Man are:\n",
            "\n",
            "1 Easy A\n",
            "2 Dawn of the Planet of the Apes\n",
            "3 Mr. Right\n",
            "4 Allied\n",
            "5 Paris pieds nus\n",
            "6 The Hateful Eight\n",
            "7 Prisoners\n"
          ]
        }
      ]
    }
  ]
}